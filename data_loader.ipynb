{
 "cells": [
  {
   "cell_type": "code",
   "execution_count": 3,
   "metadata": {
    "ExecuteTime": {
     "end_time": "2018-01-14T02:57:22.884932Z",
     "start_time": "2018-01-14T02:57:22.841075Z"
    }
   },
   "outputs": [],
   "source": [
    "import pandas as pd\n",
    "import numpy as np\n",
    "import os\n",
    "USECOLS = [\"cand_pty_affiliation\",\n",
    "           \"cand_office_st\",\n",
    "           \"cand_office\",\n",
    "           \"cand_office_district\",\n",
    "           \"cand_status\",\n",
    "           \"rpt_tp\",\n",
    "           \"transaction_pgi\",\n",
    "           \"transaction_tp\",\n",
    "           \"entity_tp\",\n",
    "           \"state\",\n",
    "           \"classification\",\n",
    "           \"transaction_amt\",\n",
    "           \"cycle\"]\n",
    "def download_data(usecols):\n",
    "    f = (\"https://media.githubusercontent.com/media/fivethirtyeight/\"\n",
    "             \"data/master/science-giving/science_federal_giving.csv\")\n",
    "    df = pd.read_csv(f, usecols=usecols, low_memory=False)\n",
    "    return df \n",
    "\n",
    "\n",
    "def change_type(df):\n",
    "    if \"cand_office_district\" in df.columns:\n",
    "        df.cand_office_district = df.cand_office_district.astype(\"object\")\n",
    "    if \"cycle\" in df.columns:\n",
    "        df.loc[:, \"cycle\"] = df.loc[:, \"cycle\"].astype(\"object\")\n",
    "\n",
    "def filter_minor_and_neg_contributions(df): \n",
    "    # Filter out minor parties and negative contributions\n",
    "    df = df.loc[\n",
    "        df.cand_pty_affiliation.apply(lambda x: x in [\"DEM\", \"REP\"]), :]\n",
    "    df = df.loc[df.transaction_amt > 0, :]\n",
    "    return df\n",
    "\n",
    "def save_to_csv(df, n):\n",
    "    idx = np.random.permutation(df.shape[0])\n",
    "    df = df.iloc[idx, :]\n",
    "    df.reset_index(drop=True, inplace=True)\n",
    "    print(df.shape[0])\n",
    "    n = df.shape[0]\n",
    "    df = df.iloc[:n, :]\n",
    "    df.to_csv('input.csv', index=False)\n",
    "\n"
   ]
  },
  {
   "cell_type": "code",
   "execution_count": 4,
   "metadata": {
    "ExecuteTime": {
     "end_time": "2018-01-14T02:57:23.708733Z",
     "start_time": "2018-01-14T02:57:23.566306Z"
    }
   },
   "outputs": [
    {
     "name": "stdout",
     "output_type": "stream",
     "text": [
      "  cand_pty_affiliation cand_office_st cand_office cand_status rpt_tp  \\\n",
      "0                  REP             US           P           C     Q3   \n",
      "1                  DEM             US           P           C     M5   \n",
      "\n",
      "  transaction_tp entity_tp state classification   cycle  transaction_amt  \n",
      "0             15       IND    NY       Engineer  2016.0            500.0  \n",
      "1            15E       IND    OR      Math-Stat  2016.0             50.0  \n"
     ]
    }
   ],
   "source": [
    "SEED = 222\n",
    "np.random.seed(SEED)\n",
    "if not os.path.exists('input.csv'):\n",
    "    usecols = [col for col in USECOLS]\n",
    "    df = download_data(usecols)\n",
    "    change_type(df)\n",
    "    df = filter_minor_and_neg_contributions(df)\n",
    "    df.dropna(inplace=True)\n",
    "    save_to_cs(df, 1000)\n",
    "else:\n",
    "    df = pd.read_csv('input.csv')\n",
    "    print(df.head(2))\n"
   ]
  },
  {
   "cell_type": "code",
   "execution_count": 6,
   "metadata": {
    "ExecuteTime": {
     "end_time": "2018-01-14T02:58:37.313488Z",
     "start_time": "2018-01-14T02:58:37.213687Z"
    }
   },
   "outputs": [
    {
     "name": "stdout",
     "output_type": "stream",
     "text": [
      "<class 'pandas.core.frame.DataFrame'>\n",
      "RangeIndex: 100000 entries, 0 to 99999\n",
      "Data columns (total 11 columns):\n",
      "cand_pty_affiliation    100000 non-null object\n",
      "cand_office_st          100000 non-null object\n",
      "cand_office             100000 non-null object\n",
      "cand_status             100000 non-null object\n",
      "rpt_tp                  100000 non-null object\n",
      "transaction_tp          100000 non-null object\n",
      "entity_tp               100000 non-null object\n",
      "state                   100000 non-null object\n",
      "classification          100000 non-null object\n",
      "cycle                   100000 non-null float64\n",
      "transaction_amt         100000 non-null float64\n",
      "dtypes: float64(2), object(9)\n",
      "memory usage: 8.4+ MB\n"
     ]
    }
   ],
   "source": [
    "df.isnull().sum()\n",
    "df.info()"
   ]
  },
  {
   "cell_type": "code",
   "execution_count": null,
   "metadata": {
    "collapsed": true
   },
   "outputs": [],
   "source": []
  }
 ],
 "metadata": {
  "kernelspec": {
   "display_name": "Python [conda env:g]",
   "language": "python",
   "name": "conda-env-g-py"
  },
  "language_info": {
   "codemirror_mode": {
    "name": "ipython",
    "version": 3
   },
   "file_extension": ".py",
   "mimetype": "text/x-python",
   "name": "python",
   "nbconvert_exporter": "python",
   "pygments_lexer": "ipython3",
   "version": "3.6.3"
  }
 },
 "nbformat": 4,
 "nbformat_minor": 2
}
