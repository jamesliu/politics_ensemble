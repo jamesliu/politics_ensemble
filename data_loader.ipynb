{
 "cells": [
  {
   "cell_type": "code",
   "execution_count": 15,
   "metadata": {
    "ExecuteTime": {
     "end_time": "2018-02-22T23:55:47.013761Z",
     "start_time": "2018-02-22T23:55:46.649402Z"
    }
   },
   "outputs": [],
   "source": [
    "import itertools\n",
    "import pandas as pd\n",
    "from collections import Counter\n",
    "import gc\n",
    "from tqdm import tqdm\n",
    "import bz2\n",
    "import numpy as np\n",
    "import re\n",
    "import os\n",
    "\n",
    "def from_bz2(train_file):\n",
    "    with bz2.open(train_file, 'rt') as f:\n",
    "        examples = []\n",
    "        for s in tqdm(itertools.islice(f, 0, batch_size, step_size)):\n",
    "            examples.append(s)\n",
    "        jsonstr = '[' + ','.join(examples) + ']'\n",
    "        df = pd.read_json(jsonstr, orient='list')\n",
    "        return df\n",
    "\n",
    "def from_json(train_file):\n",
    "    with open(train_file, 'r', encoding='utf-8') as f:\n",
    "        examples = []\n",
    "        for s in itertools.islice(f, 0, batch_size, step_size):\n",
    "            examples.append(s)\n",
    "        jsonstr = '[' + ','.join(examples) + ']'\n",
    "        df = pd.read_json(jsonstr, orient='list')\n",
    "        return df"
   ]
  },
  {
   "cell_type": "code",
   "execution_count": 16,
   "metadata": {
    "ExecuteTime": {
     "end_time": "2018-02-22T23:55:47.084772Z",
     "start_time": "2018-02-22T23:55:47.015926Z"
    }
   },
   "outputs": [],
   "source": [
    "def from_bz2_minibatch(train_file):\n",
    "    global df\n",
    "    with bz2.open(train_file, 'rt') as f:\n",
    "        mini_batch = int(1e4)\n",
    "        print('mini batch', mini_batch)\n",
    "        loops = batch_size // mini_batch\n",
    "        remain = batch_size % mini_batch\n",
    "        print('loops', loops, 'remain', remain)\n",
    "        df = pd.DataFrame()\n",
    "        for i in range(0, loops):\n",
    "            if (i % 100 == 0):\n",
    "                print('loop', i)\n",
    "                print('gc', gc.collect())\n",
    "            jsonstr = '[' \n",
    "            for s in tqdm(itertools.islice(f, 0, mini_batch, step_size)):\n",
    "                jsonstr += s + ','\n",
    "            jsonstr = jsonstr[:-1] + ']' \n",
    "            if df.empty:\n",
    "                df = pd.read_json(jsonstr, orient='list')\n",
    "            else:\n",
    "                df1 = pd.read_json(jsonstr, orient='list')\n",
    "                df=df.append(df1)\n",
    "                del df1\n",
    "            del jsonstr   \n",
    "               \n",
    "        jsonstr = '['        \n",
    "        for s in tqdm(itertools.islice(f, 0, remain, step_size)):\n",
    "            jsonstr += s + ','\n",
    "        if len(jsonstr) > 1:\n",
    "            jsonstr = jsonstr[:-1] + ']' \n",
    "            if df.empty:\n",
    "                df = pd.read_json(jsonstr, orient='list')\n",
    "            else:\n",
    "                df1 = pd.read_json(jsonstr, orient='list')\n",
    "                df=df.append(df1)\n",
    "        else:\n",
    "            print('No data in remain')\n",
    "        del jsonstr   \n",
    "        print('gc', gc.collect())\n",
    "        return df"
   ]
  },
  {
   "cell_type": "code",
   "execution_count": 17,
   "metadata": {
    "ExecuteTime": {
     "end_time": "2018-02-22T23:55:47.091218Z",
     "start_time": "2018-02-22T23:55:47.087032Z"
    }
   },
   "outputs": [],
   "source": [
    "from sklearn.datasets import load_svmlight_file"
   ]
  },
  {
   "cell_type": "code",
   "execution_count": 18,
   "metadata": {
    "ExecuteTime": {
     "end_time": "2018-02-22T23:55:47.098759Z",
     "start_time": "2018-02-22T23:55:47.093088Z"
    }
   },
   "outputs": [],
   "source": [
    "def shuffle(data):\n",
    "    X, y = data\n",
    "    ind = np.arange(X.shape[0])\n",
    "    for i in range(7):\n",
    "        np.random.shuffle(ind)\n",
    "    return X[ind], y[ind]"
   ]
  },
  {
   "cell_type": "code",
   "execution_count": 19,
   "metadata": {
    "ExecuteTime": {
     "end_time": "2018-02-22T23:55:47.256155Z",
     "start_time": "2018-02-22T23:55:47.217650Z"
    }
   },
   "outputs": [],
   "source": [
    "import boto\n",
    "import boto.s3\n",
    "import sys\n",
    "from boto.s3.key import Key\n",
    "\n",
    "conn = boto.connect_s3()\n",
    "\n",
    "def get_pd_from_s3_csv(bucket, path, names=None, dtype=None):\n",
    "    bucket = conn.get_bucket(bucket)\n",
    "    regex = re.compile('^' + path)\n",
    "    \n",
    "    selected_files = filter(regex.match, [f.name for f in bucket])\n",
    "    df = pd.DataFrame()\n",
    "    for file in selected_files:\n",
    "        print(file)\n",
    "        if df.empty:\n",
    "            df = pd.read_csv(bucket.get_key(file), delimiter=',',\n",
    "                    names=names,\n",
    "                    dtype = dtype)\n",
    "        else:\n",
    "            df.append(pd.read_csv(bucket.get_key(file), delimiter=',',\n",
    "                    names= names,\n",
    "                    dtype = dtype)) \n",
    "    return df\n",
    "    "
   ]
  },
  {
   "cell_type": "code",
   "execution_count": 20,
   "metadata": {
    "ExecuteTime": {
     "end_time": "2018-02-22T23:55:47.411082Z",
     "start_time": "2018-02-22T23:55:47.368524Z"
    }
   },
   "outputs": [],
   "source": [
    "from sklearn.datasets import load_svmlight_files\n",
    "import boto3\n",
    "s3 = boto3.resource('s3')\n",
    "def s3_files_to_local(bucket_name, path, output='/tmp/s3_files'):\n",
    "    bucket = conn.get_bucket(bucket_name)\n",
    "    regex = re.compile('^' + path)\n",
    "    selected_files = filter(regex.match, [f.name for f in bucket])\n",
    "    print(bucket)\n",
    "    outputs = []\n",
    "    for file in selected_files:\n",
    "        print(file)\n",
    "        file_name = file.split('/')[-1]\n",
    "        file_path = os.path.join(output, file_name)\n",
    "        s3.Bucket(bucket_name).download_file(file, file_path)\n",
    "        outputs.append(file_path)\n",
    "    return outputs "
   ]
  },
  {
   "cell_type": "code",
   "execution_count": 28,
   "metadata": {
    "ExecuteTime": {
     "end_time": "2018-02-23T04:27:04.461998Z",
     "start_time": "2018-02-23T04:27:04.455126Z"
    }
   },
   "outputs": [],
   "source": [
    "def get_libsvms_from_s3(bucket_name, path, n_features=None):\n",
    "    files = s3_files_to_local(bucket_name, path)\n",
    "    x=load_svmlight_files(files, zero_based=True, n_features=n_features)\n",
    "    return x\n",
    "    "
   ]
  },
  {
   "cell_type": "code",
   "execution_count": null,
   "metadata": {},
   "outputs": [],
   "source": []
  }
 ],
 "metadata": {
  "kernelspec": {
   "display_name": "Python 3",
   "language": "python",
   "name": "python3"
  },
  "language_info": {
   "codemirror_mode": {
    "name": "ipython",
    "version": 3
   },
   "file_extension": ".py",
   "mimetype": "text/x-python",
   "name": "python",
   "nbconvert_exporter": "python",
   "pygments_lexer": "ipython3",
   "version": "3.5.2"
  }
 },
 "nbformat": 4,
 "nbformat_minor": 2
}
